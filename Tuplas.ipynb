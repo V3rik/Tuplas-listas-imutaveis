{
 "cells": [
  {
   "cell_type": "markdown",
   "id": "683f2628",
   "metadata": {},
   "source": [
    "# Tuplas Valores que não podem ser alterados.\n",
    "\n",
    "estrutura:\n",
    "\n",
    "tupla = (\"valor\", \"valor\", \"valor\")\n",
    "\n",
    "Diferença: Parace uma lista, mas é imutalvel.\n",
    "    \n",
    "vantagens:\n",
    "    1- mais eficiente (em termos de performance)\n",
    "    2- protege a base de dados (por ser imutavel)\n",
    "    3- muito usado para dados heterpgêneos.\n"
   ]
  },
  {
   "cell_type": "code",
   "execution_count": 5,
   "id": "6b2da341",
   "metadata": {},
   "outputs": [
    {
     "name": "stdout",
     "output_type": "stream",
     "text": [
      "04/08/2022\n"
     ]
    }
   ],
   "source": [
    "vendas = (\"guilherme\", \"04/08/2022\", \"05/09/2001\", \"2000\", \"Estagiario\" )\n",
    "\n",
    "print(vendas[1])"
   ]
  },
  {
   "cell_type": "markdown",
   "id": "6466d4f4",
   "metadata": {},
   "source": [
    "Acessando o valor de uma tupla"
   ]
  },
  {
   "cell_type": "code",
   "execution_count": 12,
   "id": "7112b753",
   "metadata": {},
   "outputs": [
    {
     "name": "stdout",
     "output_type": "stream",
     "text": [
      "guilherme\n",
      "04/08/2022\n",
      "05/09/2001\n",
      "2000\n",
      "Estagiario\n"
     ]
    }
   ],
   "source": [
    "nome = vendas[0]\n",
    "data_contratação = vendas[1]\n",
    "data_nascimento = vendas[2]\n",
    "salario = vendas[3]\n",
    "cargo = vendas[4]\n",
    "\n",
    "print(nome)\n",
    "print(data_contratação)\n",
    "print(data_nascimento)\n",
    "print (salario)\n",
    "print(cargo)"
   ]
  },
  {
   "cell_type": "markdown",
   "id": "74d0b768",
   "metadata": {},
   "source": [
    "O enumerate que vinhamos usandoaté agora, na verdade, cria uma tupla para a gente. Vamos ver na prática:\n"
   ]
  },
  {
   "cell_type": "code",
   "execution_count": 23,
   "id": "3a597b54",
   "metadata": {},
   "outputs": [
    {
     "name": "stdout",
     "output_type": "stream",
     "text": [
      "gui vendeu 100 unidades.\n",
      "alexandro vendeu 2000 unidades.\n",
      "paulo henrique vendeu 300 unidades.\n",
      "nicolas vendeu 300 unidades.\n",
      "marcio vendeu 150 unidades.\n"
     ]
    }
   ],
   "source": [
    "vendas = [100, 2000, 300, 300, 150]\n",
    "funcionarios = [\"gui\", \"alexandro\", \"paulo henrique\", \"nicolas\", \"marcio\"]\n",
    "\n",
    "for i, vendas in enumerate(vendas):\n",
    "    print (\"{} vendeu {} unidades.\" .format(funcionarios[i], vendas))"
   ]
  },
  {
   "cell_type": "markdown",
   "id": "54d3c221",
   "metadata": {},
   "source": [
    "# a melhor forma de se utilizar.\n",
    "\n",
    "Como são valores imutaveis podemos criar variaveis que receberão os valores e então chamar somente o determinado nome da variavel.\n",
    "\n",
    "exemplo:"
   ]
  },
  {
   "cell_type": "code",
   "execution_count": 28,
   "id": "353c3e33",
   "metadata": {},
   "outputs": [
    {
     "name": "stdout",
     "output_type": "stream",
     "text": [
      "guilherme recebe 2000\n"
     ]
    }
   ],
   "source": [
    "vendas = (\"guilherme\", \"04/08/2022\", \"05/09/2001\", \"2000\", \"Estagiario\" )\n",
    "\n",
    "nome, data_contratação, data_nascimento, salario, cargo = vendas\n",
    "\n",
    "print (nome, \"recebe\", salario)"
   ]
  }
 ],
 "metadata": {
  "kernelspec": {
   "display_name": "Python 3 (ipykernel)",
   "language": "python",
   "name": "python3"
  },
  "language_info": {
   "codemirror_mode": {
    "name": "ipython",
    "version": 3
   },
   "file_extension": ".py",
   "mimetype": "text/x-python",
   "name": "python",
   "nbconvert_exporter": "python",
   "pygments_lexer": "ipython3",
   "version": "3.9.12"
  }
 },
 "nbformat": 4,
 "nbformat_minor": 5
}
